{
 "cells": [
  {
   "cell_type": "code",
   "execution_count": 3,
   "id": "73e60cd1",
   "metadata": {
    "execution": {
     "iopub.execute_input": "2024-10-03T19:45:17.532878Z",
     "iopub.status.busy": "2024-10-03T19:45:17.531508Z",
     "iopub.status.idle": "2024-10-03T19:45:18.678489Z",
     "shell.execute_reply": "2024-10-03T19:45:18.677357Z"
    },
    "papermill": {
     "duration": 1.160285,
     "end_time": "2024-10-03T19:45:18.681370",
     "exception": false,
     "start_time": "2024-10-03T19:45:17.521085",
     "status": "completed"
    },
    "tags": []
   },
   "outputs": [],
   "source": [
    "import pandas as pd\n",
    "import numpy as np\n",
    "import matplotlib.pyplot as plt\n",
    "%matplotlib inline\n",
    "from IPython import get_ipython\n",
    "import warnings\n",
    "warnings.filterwarnings(\"ignore\")"
   ]
  },
  {
   "cell_type": "code",
   "execution_count": 4,
   "id": "25c1df12",
   "metadata": {
    "execution": {
     "iopub.execute_input": "2024-10-03T19:45:18.698194Z",
     "iopub.status.busy": "2024-10-03T19:45:18.697751Z",
     "iopub.status.idle": "2024-10-03T19:45:18.719694Z",
     "shell.execute_reply": "2024-10-03T19:45:18.718406Z"
    },
    "papermill": {
     "duration": 0.033637,
     "end_time": "2024-10-03T19:45:18.722579",
     "exception": false,
     "start_time": "2024-10-03T19:45:18.688942",
     "status": "completed"
    },
    "tags": []
   },
   "outputs": [],
   "source": [
    "df = pd.read_csv('Crop_recommendation.csv')"
   ]
  },
  {
   "cell_type": "code",
   "execution_count": 5,
   "id": "25a1eca2",
   "metadata": {
    "execution": {
     "iopub.execute_input": "2024-10-03T19:45:18.740053Z",
     "iopub.status.busy": "2024-10-03T19:45:18.739614Z",
     "iopub.status.idle": "2024-10-03T19:45:18.764252Z",
     "shell.execute_reply": "2024-10-03T19:45:18.763099Z"
    },
    "papermill": {
     "duration": 0.037011,
     "end_time": "2024-10-03T19:45:18.767674",
     "exception": false,
     "start_time": "2024-10-03T19:45:18.730663",
     "status": "completed"
    },
    "tags": []
   },
   "outputs": [
    {
     "data": {
      "text/html": [
       "<div>\n",
       "<style scoped>\n",
       "    .dataframe tbody tr th:only-of-type {\n",
       "        vertical-align: middle;\n",
       "    }\n",
       "\n",
       "    .dataframe tbody tr th {\n",
       "        vertical-align: top;\n",
       "    }\n",
       "\n",
       "    .dataframe thead th {\n",
       "        text-align: right;\n",
       "    }\n",
       "</style>\n",
       "<table border=\"1\" class=\"dataframe\">\n",
       "  <thead>\n",
       "    <tr style=\"text-align: right;\">\n",
       "      <th></th>\n",
       "      <th>N</th>\n",
       "      <th>P</th>\n",
       "      <th>K</th>\n",
       "      <th>temperature</th>\n",
       "      <th>humidity</th>\n",
       "      <th>ph</th>\n",
       "      <th>rainfall</th>\n",
       "      <th>label</th>\n",
       "    </tr>\n",
       "  </thead>\n",
       "  <tbody>\n",
       "    <tr>\n",
       "      <th>0</th>\n",
       "      <td>90</td>\n",
       "      <td>42</td>\n",
       "      <td>43</td>\n",
       "      <td>20.879744</td>\n",
       "      <td>82.002744</td>\n",
       "      <td>6.502985</td>\n",
       "      <td>202.935536</td>\n",
       "      <td>rice</td>\n",
       "    </tr>\n",
       "    <tr>\n",
       "      <th>1</th>\n",
       "      <td>85</td>\n",
       "      <td>58</td>\n",
       "      <td>41</td>\n",
       "      <td>21.770462</td>\n",
       "      <td>80.319644</td>\n",
       "      <td>7.038096</td>\n",
       "      <td>226.655537</td>\n",
       "      <td>rice</td>\n",
       "    </tr>\n",
       "    <tr>\n",
       "      <th>2</th>\n",
       "      <td>60</td>\n",
       "      <td>55</td>\n",
       "      <td>44</td>\n",
       "      <td>23.004459</td>\n",
       "      <td>82.320763</td>\n",
       "      <td>7.840207</td>\n",
       "      <td>263.964248</td>\n",
       "      <td>rice</td>\n",
       "    </tr>\n",
       "    <tr>\n",
       "      <th>3</th>\n",
       "      <td>74</td>\n",
       "      <td>35</td>\n",
       "      <td>40</td>\n",
       "      <td>26.491096</td>\n",
       "      <td>80.158363</td>\n",
       "      <td>6.980401</td>\n",
       "      <td>242.864034</td>\n",
       "      <td>rice</td>\n",
       "    </tr>\n",
       "    <tr>\n",
       "      <th>4</th>\n",
       "      <td>78</td>\n",
       "      <td>42</td>\n",
       "      <td>42</td>\n",
       "      <td>20.130175</td>\n",
       "      <td>81.604873</td>\n",
       "      <td>7.628473</td>\n",
       "      <td>262.717340</td>\n",
       "      <td>rice</td>\n",
       "    </tr>\n",
       "  </tbody>\n",
       "</table>\n",
       "</div>"
      ],
      "text/plain": [
       "    N   P   K  temperature   humidity        ph    rainfall label\n",
       "0  90  42  43    20.879744  82.002744  6.502985  202.935536  rice\n",
       "1  85  58  41    21.770462  80.319644  7.038096  226.655537  rice\n",
       "2  60  55  44    23.004459  82.320763  7.840207  263.964248  rice\n",
       "3  74  35  40    26.491096  80.158363  6.980401  242.864034  rice\n",
       "4  78  42  42    20.130175  81.604873  7.628473  262.717340  rice"
      ]
     },
     "execution_count": 5,
     "metadata": {},
     "output_type": "execute_result"
    }
   ],
   "source": [
    "df.head()"
   ]
  },
  {
   "cell_type": "code",
   "execution_count": 6,
   "id": "0e77666f",
   "metadata": {
    "execution": {
     "iopub.execute_input": "2024-10-03T19:45:18.785789Z",
     "iopub.status.busy": "2024-10-03T19:45:18.784618Z",
     "iopub.status.idle": "2024-10-03T19:45:18.799969Z",
     "shell.execute_reply": "2024-10-03T19:45:18.798563Z"
    },
    "papermill": {
     "duration": 0.026878,
     "end_time": "2024-10-03T19:45:18.802530",
     "exception": false,
     "start_time": "2024-10-03T19:45:18.775652",
     "status": "completed"
    },
    "tags": []
   },
   "outputs": [
    {
     "data": {
      "text/html": [
       "<div>\n",
       "<style scoped>\n",
       "    .dataframe tbody tr th:only-of-type {\n",
       "        vertical-align: middle;\n",
       "    }\n",
       "\n",
       "    .dataframe tbody tr th {\n",
       "        vertical-align: top;\n",
       "    }\n",
       "\n",
       "    .dataframe thead th {\n",
       "        text-align: right;\n",
       "    }\n",
       "</style>\n",
       "<table border=\"1\" class=\"dataframe\">\n",
       "  <thead>\n",
       "    <tr style=\"text-align: right;\">\n",
       "      <th></th>\n",
       "      <th>N</th>\n",
       "      <th>P</th>\n",
       "      <th>K</th>\n",
       "      <th>temperature</th>\n",
       "      <th>humidity</th>\n",
       "      <th>ph</th>\n",
       "      <th>rainfall</th>\n",
       "      <th>label</th>\n",
       "    </tr>\n",
       "  </thead>\n",
       "  <tbody>\n",
       "    <tr>\n",
       "      <th>2195</th>\n",
       "      <td>107</td>\n",
       "      <td>34</td>\n",
       "      <td>32</td>\n",
       "      <td>26.774637</td>\n",
       "      <td>66.413269</td>\n",
       "      <td>6.780064</td>\n",
       "      <td>177.774507</td>\n",
       "      <td>coffee</td>\n",
       "    </tr>\n",
       "    <tr>\n",
       "      <th>2196</th>\n",
       "      <td>99</td>\n",
       "      <td>15</td>\n",
       "      <td>27</td>\n",
       "      <td>27.417112</td>\n",
       "      <td>56.636362</td>\n",
       "      <td>6.086922</td>\n",
       "      <td>127.924610</td>\n",
       "      <td>coffee</td>\n",
       "    </tr>\n",
       "    <tr>\n",
       "      <th>2197</th>\n",
       "      <td>118</td>\n",
       "      <td>33</td>\n",
       "      <td>30</td>\n",
       "      <td>24.131797</td>\n",
       "      <td>67.225123</td>\n",
       "      <td>6.362608</td>\n",
       "      <td>173.322839</td>\n",
       "      <td>coffee</td>\n",
       "    </tr>\n",
       "    <tr>\n",
       "      <th>2198</th>\n",
       "      <td>117</td>\n",
       "      <td>32</td>\n",
       "      <td>34</td>\n",
       "      <td>26.272418</td>\n",
       "      <td>52.127394</td>\n",
       "      <td>6.758793</td>\n",
       "      <td>127.175293</td>\n",
       "      <td>coffee</td>\n",
       "    </tr>\n",
       "    <tr>\n",
       "      <th>2199</th>\n",
       "      <td>104</td>\n",
       "      <td>18</td>\n",
       "      <td>30</td>\n",
       "      <td>23.603016</td>\n",
       "      <td>60.396475</td>\n",
       "      <td>6.779833</td>\n",
       "      <td>140.937041</td>\n",
       "      <td>coffee</td>\n",
       "    </tr>\n",
       "  </tbody>\n",
       "</table>\n",
       "</div>"
      ],
      "text/plain": [
       "        N   P   K  temperature   humidity        ph    rainfall   label\n",
       "2195  107  34  32    26.774637  66.413269  6.780064  177.774507  coffee\n",
       "2196   99  15  27    27.417112  56.636362  6.086922  127.924610  coffee\n",
       "2197  118  33  30    24.131797  67.225123  6.362608  173.322839  coffee\n",
       "2198  117  32  34    26.272418  52.127394  6.758793  127.175293  coffee\n",
       "2199  104  18  30    23.603016  60.396475  6.779833  140.937041  coffee"
      ]
     },
     "execution_count": 6,
     "metadata": {},
     "output_type": "execute_result"
    }
   ],
   "source": [
    "df.tail()"
   ]
  },
  {
   "cell_type": "code",
   "execution_count": 8,
   "id": "d4732bcf",
   "metadata": {
    "execution": {
     "iopub.execute_input": "2024-10-03T19:45:18.820767Z",
     "iopub.status.busy": "2024-10-03T19:45:18.819864Z",
     "iopub.status.idle": "2024-10-03T19:45:18.827851Z",
     "shell.execute_reply": "2024-10-03T19:45:18.826435Z"
    },
    "papermill": {
     "duration": 0.01999,
     "end_time": "2024-10-03T19:45:18.830372",
     "exception": false,
     "start_time": "2024-10-03T19:45:18.810382",
     "status": "completed"
    },
    "tags": []
   },
   "outputs": [
    {
     "data": {
      "text/plain": [
       "(2200, 8)"
      ]
     },
     "execution_count": 8,
     "metadata": {},
     "output_type": "execute_result"
    }
   ],
   "source": [
    "df.shape"
   ]
  },
  {
   "cell_type": "code",
   "execution_count": 9,
   "id": "db969224",
   "metadata": {
    "execution": {
     "iopub.execute_input": "2024-10-03T19:45:18.847781Z",
     "iopub.status.busy": "2024-10-03T19:45:18.847335Z",
     "iopub.status.idle": "2024-10-03T19:45:18.854858Z",
     "shell.execute_reply": "2024-10-03T19:45:18.853651Z"
    },
    "papermill": {
     "duration": 0.018981,
     "end_time": "2024-10-03T19:45:18.857185",
     "exception": false,
     "start_time": "2024-10-03T19:45:18.838204",
     "status": "completed"
    },
    "tags": []
   },
   "outputs": [
    {
     "data": {
      "text/plain": [
       "Index(['N', 'P', 'K', 'temperature', 'humidity', 'ph', 'rainfall', 'label'], dtype='object')"
      ]
     },
     "execution_count": 9,
     "metadata": {},
     "output_type": "execute_result"
    }
   ],
   "source": [
    "df.columns"
   ]
  },
  {
   "cell_type": "code",
   "execution_count": 10,
   "id": "3898dd87",
   "metadata": {
    "execution": {
     "iopub.execute_input": "2024-10-03T19:45:18.875133Z",
     "iopub.status.busy": "2024-10-03T19:45:18.874701Z",
     "iopub.status.idle": "2024-10-03T19:45:18.893725Z",
     "shell.execute_reply": "2024-10-03T19:45:18.892615Z"
    },
    "papermill": {
     "duration": 0.031069,
     "end_time": "2024-10-03T19:45:18.896291",
     "exception": false,
     "start_time": "2024-10-03T19:45:18.865222",
     "status": "completed"
    },
    "tags": []
   },
   "outputs": [
    {
     "data": {
      "text/plain": [
       "0"
      ]
     },
     "execution_count": 10,
     "metadata": {},
     "output_type": "execute_result"
    }
   ],
   "source": [
    "df.duplicated().sum()"
   ]
  },
  {
   "cell_type": "code",
   "execution_count": 11,
   "id": "23adf349",
   "metadata": {
    "execution": {
     "iopub.execute_input": "2024-10-03T19:45:18.915728Z",
     "iopub.status.busy": "2024-10-03T19:45:18.914474Z",
     "iopub.status.idle": "2024-10-03T19:45:18.925693Z",
     "shell.execute_reply": "2024-10-03T19:45:18.924470Z"
    },
    "papermill": {
     "duration": 0.023686,
     "end_time": "2024-10-03T19:45:18.928211",
     "exception": false,
     "start_time": "2024-10-03T19:45:18.904525",
     "status": "completed"
    },
    "tags": []
   },
   "outputs": [
    {
     "data": {
      "text/plain": [
       "N              0\n",
       "P              0\n",
       "K              0\n",
       "temperature    0\n",
       "humidity       0\n",
       "ph             0\n",
       "rainfall       0\n",
       "label          0\n",
       "dtype: int64"
      ]
     },
     "execution_count": 11,
     "metadata": {},
     "output_type": "execute_result"
    }
   ],
   "source": [
    "df.isnull().sum()"
   ]
  },
  {
   "cell_type": "code",
   "execution_count": 12,
   "id": "ed492f0c",
   "metadata": {
    "execution": {
     "iopub.execute_input": "2024-10-03T19:45:18.946900Z",
     "iopub.status.busy": "2024-10-03T19:45:18.945947Z",
     "iopub.status.idle": "2024-10-03T19:45:18.966613Z",
     "shell.execute_reply": "2024-10-03T19:45:18.965089Z"
    },
    "papermill": {
     "duration": 0.032843,
     "end_time": "2024-10-03T19:45:18.969365",
     "exception": false,
     "start_time": "2024-10-03T19:45:18.936522",
     "status": "completed"
    },
    "tags": []
   },
   "outputs": [
    {
     "name": "stdout",
     "output_type": "stream",
     "text": [
      "<class 'pandas.core.frame.DataFrame'>\n",
      "RangeIndex: 2200 entries, 0 to 2199\n",
      "Data columns (total 8 columns):\n",
      " #   Column       Non-Null Count  Dtype  \n",
      "---  ------       --------------  -----  \n",
      " 0   N            2200 non-null   int64  \n",
      " 1   P            2200 non-null   int64  \n",
      " 2   K            2200 non-null   int64  \n",
      " 3   temperature  2200 non-null   float64\n",
      " 4   humidity     2200 non-null   float64\n",
      " 5   ph           2200 non-null   float64\n",
      " 6   rainfall     2200 non-null   float64\n",
      " 7   label        2200 non-null   object \n",
      "dtypes: float64(4), int64(3), object(1)\n",
      "memory usage: 137.6+ KB\n"
     ]
    }
   ],
   "source": [
    "df.info()"
   ]
  },
  {
   "cell_type": "code",
   "execution_count": 13,
   "id": "0ac7427f",
   "metadata": {
    "execution": {
     "iopub.execute_input": "2024-10-03T19:45:18.989464Z",
     "iopub.status.busy": "2024-10-03T19:45:18.989038Z",
     "iopub.status.idle": "2024-10-03T19:45:19.025409Z",
     "shell.execute_reply": "2024-10-03T19:45:19.024183Z"
    },
    "papermill": {
     "duration": 0.049551,
     "end_time": "2024-10-03T19:45:19.028167",
     "exception": false,
     "start_time": "2024-10-03T19:45:18.978616",
     "status": "completed"
    },
    "tags": []
   },
   "outputs": [
    {
     "data": {
      "text/html": [
       "<div>\n",
       "<style scoped>\n",
       "    .dataframe tbody tr th:only-of-type {\n",
       "        vertical-align: middle;\n",
       "    }\n",
       "\n",
       "    .dataframe tbody tr th {\n",
       "        vertical-align: top;\n",
       "    }\n",
       "\n",
       "    .dataframe thead th {\n",
       "        text-align: right;\n",
       "    }\n",
       "</style>\n",
       "<table border=\"1\" class=\"dataframe\">\n",
       "  <thead>\n",
       "    <tr style=\"text-align: right;\">\n",
       "      <th></th>\n",
       "      <th>N</th>\n",
       "      <th>P</th>\n",
       "      <th>K</th>\n",
       "      <th>temperature</th>\n",
       "      <th>humidity</th>\n",
       "      <th>ph</th>\n",
       "      <th>rainfall</th>\n",
       "    </tr>\n",
       "  </thead>\n",
       "  <tbody>\n",
       "    <tr>\n",
       "      <th>count</th>\n",
       "      <td>2200.000000</td>\n",
       "      <td>2200.000000</td>\n",
       "      <td>2200.000000</td>\n",
       "      <td>2200.000000</td>\n",
       "      <td>2200.000000</td>\n",
       "      <td>2200.000000</td>\n",
       "      <td>2200.000000</td>\n",
       "    </tr>\n",
       "    <tr>\n",
       "      <th>mean</th>\n",
       "      <td>50.551818</td>\n",
       "      <td>53.362727</td>\n",
       "      <td>48.149091</td>\n",
       "      <td>25.616244</td>\n",
       "      <td>71.481779</td>\n",
       "      <td>6.469480</td>\n",
       "      <td>103.463655</td>\n",
       "    </tr>\n",
       "    <tr>\n",
       "      <th>std</th>\n",
       "      <td>36.917334</td>\n",
       "      <td>32.985883</td>\n",
       "      <td>50.647931</td>\n",
       "      <td>5.063749</td>\n",
       "      <td>22.263812</td>\n",
       "      <td>0.773938</td>\n",
       "      <td>54.958389</td>\n",
       "    </tr>\n",
       "    <tr>\n",
       "      <th>min</th>\n",
       "      <td>0.000000</td>\n",
       "      <td>5.000000</td>\n",
       "      <td>5.000000</td>\n",
       "      <td>8.825675</td>\n",
       "      <td>14.258040</td>\n",
       "      <td>3.504752</td>\n",
       "      <td>20.211267</td>\n",
       "    </tr>\n",
       "    <tr>\n",
       "      <th>25%</th>\n",
       "      <td>21.000000</td>\n",
       "      <td>28.000000</td>\n",
       "      <td>20.000000</td>\n",
       "      <td>22.769375</td>\n",
       "      <td>60.261953</td>\n",
       "      <td>5.971693</td>\n",
       "      <td>64.551686</td>\n",
       "    </tr>\n",
       "    <tr>\n",
       "      <th>50%</th>\n",
       "      <td>37.000000</td>\n",
       "      <td>51.000000</td>\n",
       "      <td>32.000000</td>\n",
       "      <td>25.598693</td>\n",
       "      <td>80.473146</td>\n",
       "      <td>6.425045</td>\n",
       "      <td>94.867624</td>\n",
       "    </tr>\n",
       "    <tr>\n",
       "      <th>75%</th>\n",
       "      <td>84.250000</td>\n",
       "      <td>68.000000</td>\n",
       "      <td>49.000000</td>\n",
       "      <td>28.561654</td>\n",
       "      <td>89.948771</td>\n",
       "      <td>6.923643</td>\n",
       "      <td>124.267508</td>\n",
       "    </tr>\n",
       "    <tr>\n",
       "      <th>max</th>\n",
       "      <td>140.000000</td>\n",
       "      <td>145.000000</td>\n",
       "      <td>205.000000</td>\n",
       "      <td>43.675493</td>\n",
       "      <td>99.981876</td>\n",
       "      <td>9.935091</td>\n",
       "      <td>298.560117</td>\n",
       "    </tr>\n",
       "  </tbody>\n",
       "</table>\n",
       "</div>"
      ],
      "text/plain": [
       "                 N            P            K  temperature     humidity  \\\n",
       "count  2200.000000  2200.000000  2200.000000  2200.000000  2200.000000   \n",
       "mean     50.551818    53.362727    48.149091    25.616244    71.481779   \n",
       "std      36.917334    32.985883    50.647931     5.063749    22.263812   \n",
       "min       0.000000     5.000000     5.000000     8.825675    14.258040   \n",
       "25%      21.000000    28.000000    20.000000    22.769375    60.261953   \n",
       "50%      37.000000    51.000000    32.000000    25.598693    80.473146   \n",
       "75%      84.250000    68.000000    49.000000    28.561654    89.948771   \n",
       "max     140.000000   145.000000   205.000000    43.675493    99.981876   \n",
       "\n",
       "                ph     rainfall  \n",
       "count  2200.000000  2200.000000  \n",
       "mean      6.469480   103.463655  \n",
       "std       0.773938    54.958389  \n",
       "min       3.504752    20.211267  \n",
       "25%       5.971693    64.551686  \n",
       "50%       6.425045    94.867624  \n",
       "75%       6.923643   124.267508  \n",
       "max       9.935091   298.560117  "
      ]
     },
     "execution_count": 13,
     "metadata": {},
     "output_type": "execute_result"
    }
   ],
   "source": [
    "df.describe()"
   ]
  },
  {
   "cell_type": "code",
   "execution_count": 14,
   "id": "d550865d",
   "metadata": {
    "execution": {
     "iopub.execute_input": "2024-10-03T19:45:19.047369Z",
     "iopub.status.busy": "2024-10-03T19:45:19.046961Z",
     "iopub.status.idle": "2024-10-03T19:45:19.058259Z",
     "shell.execute_reply": "2024-10-03T19:45:19.057097Z"
    },
    "papermill": {
     "duration": 0.023852,
     "end_time": "2024-10-03T19:45:19.060749",
     "exception": false,
     "start_time": "2024-10-03T19:45:19.036897",
     "status": "completed"
    },
    "tags": []
   },
   "outputs": [
    {
     "data": {
      "text/plain": [
       "N               137\n",
       "P               117\n",
       "K                73\n",
       "temperature    2200\n",
       "humidity       2200\n",
       "ph             2200\n",
       "rainfall       2200\n",
       "label            22\n",
       "dtype: int64"
      ]
     },
     "execution_count": 14,
     "metadata": {},
     "output_type": "execute_result"
    }
   ],
   "source": [
    "df.nunique()"
   ]
  },
  {
   "cell_type": "code",
   "execution_count": 15,
   "id": "1bace3bf",
   "metadata": {
    "execution": {
     "iopub.execute_input": "2024-10-03T19:45:19.080078Z",
     "iopub.status.busy": "2024-10-03T19:45:19.079669Z",
     "iopub.status.idle": "2024-10-03T19:45:19.087744Z",
     "shell.execute_reply": "2024-10-03T19:45:19.086406Z"
    },
    "papermill": {
     "duration": 0.02041,
     "end_time": "2024-10-03T19:45:19.090055",
     "exception": false,
     "start_time": "2024-10-03T19:45:19.069645",
     "status": "completed"
    },
    "tags": []
   },
   "outputs": [
    {
     "data": {
      "text/plain": [
       "array(['rice', 'maize', 'chickpea', 'kidneybeans', 'pigeonpeas',\n",
       "       'mothbeans', 'mungbean', 'blackgram', 'lentil', 'pomegranate',\n",
       "       'banana', 'mango', 'grapes', 'watermelon', 'muskmelon', 'apple',\n",
       "       'orange', 'papaya', 'coconut', 'cotton', 'jute', 'coffee'],\n",
       "      dtype=object)"
      ]
     },
     "execution_count": 15,
     "metadata": {},
     "output_type": "execute_result"
    }
   ],
   "source": [
    "df['label'].unique()"
   ]
  },
  {
   "cell_type": "code",
   "execution_count": 16,
   "id": "ec2182e0",
   "metadata": {
    "execution": {
     "iopub.execute_input": "2024-10-03T19:45:19.109501Z",
     "iopub.status.busy": "2024-10-03T19:45:19.109104Z",
     "iopub.status.idle": "2024-10-03T19:45:19.118394Z",
     "shell.execute_reply": "2024-10-03T19:45:19.117195Z"
    },
    "papermill": {
     "duration": 0.021999,
     "end_time": "2024-10-03T19:45:19.120957",
     "exception": false,
     "start_time": "2024-10-03T19:45:19.098958",
     "status": "completed"
    },
    "tags": []
   },
   "outputs": [
    {
     "data": {
      "text/plain": [
       "label\n",
       "rice           100\n",
       "maize          100\n",
       "jute           100\n",
       "cotton         100\n",
       "coconut        100\n",
       "papaya         100\n",
       "orange         100\n",
       "apple          100\n",
       "muskmelon      100\n",
       "watermelon     100\n",
       "grapes         100\n",
       "mango          100\n",
       "banana         100\n",
       "pomegranate    100\n",
       "lentil         100\n",
       "blackgram      100\n",
       "mungbean       100\n",
       "mothbeans      100\n",
       "pigeonpeas     100\n",
       "kidneybeans    100\n",
       "chickpea       100\n",
       "coffee         100\n",
       "Name: count, dtype: int64"
      ]
     },
     "execution_count": 16,
     "metadata": {},
     "output_type": "execute_result"
    }
   ],
   "source": [
    "df['label'].value_counts()"
   ]
  },
  {
   "cell_type": "code",
   "execution_count": 17,
   "id": "756575b9",
   "metadata": {
    "execution": {
     "iopub.execute_input": "2024-10-03T19:45:19.141289Z",
     "iopub.status.busy": "2024-10-03T19:45:19.140864Z",
     "iopub.status.idle": "2024-10-03T19:45:19.500542Z",
     "shell.execute_reply": "2024-10-03T19:45:19.499345Z"
    },
    "papermill": {
     "duration": 0.374618,
     "end_time": "2024-10-03T19:45:19.504636",
     "exception": false,
     "start_time": "2024-10-03T19:45:19.130018",
     "status": "completed"
    },
    "tags": []
   },
   "outputs": [
    {
     "data": {
      "image/png": "[encoded data removed]",
      "text/plain": [
       "<Figure size 800x600 with 1 Axes>"
      ]
     },
     "metadata": {},
     "output_type": "display_data"
    }
   ],
   "source": [
    "import matplotlib.pyplot as plt\n",
    "\n",
    "# Assuming df is your DataFrame and 'label' is the column of interest\n",
    "label_counts = df['label'].value_counts()\n",
    "\n",
    "# Plotting the bar graph\n",
    "plt.figure(figsize=(8, 6))\n",
    "label_counts.plot(kind='bar', color='skyblue')\n",
    "\n",
    "# Adding labels and title\n",
    "plt.title('Value Counts of Labels')\n",
    "plt.xlabel('Labels')\n",
    "plt.ylabel('Count')\n",
    "\n",
    "# Display the graph\n",
    "plt.show()\n"
   ]
  },
  {
   "cell_type": "code",
   "execution_count": 18,
   "id": "a8ef5285",
   "metadata": {
    "execution": {
     "iopub.execute_input": "2024-10-03T19:45:19.530969Z",
     "iopub.status.busy": "2024-10-03T19:45:19.530426Z",
     "iopub.status.idle": "2024-10-03T19:45:19.698482Z",
     "shell.execute_reply": "2024-10-03T19:45:19.696801Z"
    },
    "papermill": {
     "duration": 0.182884,
     "end_time": "2024-10-03T19:45:19.701908",
     "exception": false,
     "start_time": "2024-10-03T19:45:19.519024",
     "status": "completed"
    },
    "tags": []
   },
   "outputs": [],
   "source": [
    "from sklearn.preprocessing import LabelEncoder\n",
    "encoder = LabelEncoder()"
   ]
  },
  {
   "cell_type": "code",
   "execution_count": 19,
   "id": "3e949dcf",
   "metadata": {
    "execution": {
     "iopub.execute_input": "2024-10-03T19:45:19.725437Z",
     "iopub.status.busy": "2024-10-03T19:45:19.724483Z",
     "iopub.status.idle": "2024-10-03T19:45:19.732052Z",
     "shell.execute_reply": "2024-10-03T19:45:19.730671Z"
    },
    "papermill": {
     "duration": 0.023083,
     "end_time": "2024-10-03T19:45:19.735050",
     "exception": false,
     "start_time": "2024-10-03T19:45:19.711967",
     "status": "completed"
    },
    "tags": []
   },
   "outputs": [],
   "source": [
    "df['label'] = encoder.fit_transform(df['label'])"
   ]
  },
  {
   "cell_type": "code",
   "execution_count": 20,
   "id": "9980e139",
   "metadata": {
    "execution": {
     "iopub.execute_input": "2024-10-03T19:45:19.756471Z",
     "iopub.status.busy": "2024-10-03T19:45:19.755507Z",
     "iopub.status.idle": "2024-10-03T19:45:19.763970Z",
     "shell.execute_reply": "2024-10-03T19:45:19.762626Z"
    },
    "papermill": {
     "duration": 0.021986,
     "end_time": "2024-10-03T19:45:19.766514",
     "exception": false,
     "start_time": "2024-10-03T19:45:19.744528",
     "status": "completed"
    },
    "tags": []
   },
   "outputs": [],
   "source": [
    "x = df.drop(['label'], axis=1)\n",
    "y = df[['label']]"
   ]
  },
  {
   "cell_type": "code",
   "execution_count": 21,
   "id": "7b0710ae",
   "metadata": {
    "execution": {
     "iopub.execute_input": "2024-10-03T19:45:19.787535Z",
     "iopub.status.busy": "2024-10-03T19:45:19.787039Z",
     "iopub.status.idle": "2024-10-03T19:45:19.798175Z",
     "shell.execute_reply": "2024-10-03T19:45:19.796681Z"
    },
    "papermill": {
     "duration": 0.024804,
     "end_time": "2024-10-03T19:45:19.800932",
     "exception": false,
     "start_time": "2024-10-03T19:45:19.776128",
     "status": "completed"
    },
    "tags": []
   },
   "outputs": [
    {
     "data": {
      "text/plain": [
       "label\n",
       "20    100\n",
       "11    100\n",
       "8     100\n",
       "6     100\n",
       "4     100\n",
       "17    100\n",
       "16    100\n",
       "0     100\n",
       "15    100\n",
       "21    100\n",
       "7     100\n",
       "12    100\n",
       "1     100\n",
       "19    100\n",
       "10    100\n",
       "2     100\n",
       "14    100\n",
       "13    100\n",
       "18    100\n",
       "9     100\n",
       "3     100\n",
       "5     100\n",
       "Name: count, dtype: int64"
      ]
     },
     "execution_count": 21,
     "metadata": {},
     "output_type": "execute_result"
    }
   ],
   "source": [
    "y['label'].value_counts()\n"
   ]
  },
  {
   "cell_type": "code",
   "execution_count": 22,
   "id": "4cfd5026",
   "metadata": {
    "execution": {
     "iopub.execute_input": "2024-10-03T19:45:19.828884Z",
     "iopub.status.busy": "2024-10-03T19:45:19.827796Z",
     "iopub.status.idle": "2024-10-03T19:45:26.488821Z",
     "shell.execute_reply": "2024-10-03T19:45:26.487445Z"
    },
    "papermill": {
     "duration": 6.677304,
     "end_time": "2024-10-03T19:45:26.491671",
     "exception": false,
     "start_time": "2024-10-03T19:45:19.814367",
     "status": "completed"
    },
    "tags": []
   },
   "outputs": [],
   "source": [
    "from sklearn.model_selection import train_test_split"
   ]
  },
  {
   "cell_type": "code",
   "execution_count": 49,
   "id": "d823514f",
   "metadata": {
    "execution": {
     "iopub.execute_input": "2024-10-03T19:45:26.513104Z",
     "iopub.status.busy": "2024-10-03T19:45:26.511872Z",
     "iopub.status.idle": "2024-10-03T19:45:26.525034Z",
     "shell.execute_reply": "2024-10-03T19:45:26.523669Z"
    },
    "papermill": {
     "duration": 0.02649,
     "end_time": "2024-10-03T19:45:26.527589",
     "exception": false,
     "start_time": "2024-10-03T19:45:26.501099",
     "status": "completed"
    },
    "tags": []
   },
   "outputs": [
    {
     "name": "stdout",
     "output_type": "stream",
     "text": [
      "Train set: (1760, 7) (1760, 1)\n",
      "Test set: (440, 7) (440, 1)\n"
     ]
    }
   ],
   "source": [
    "x_train,x_test,y_train,y_test=train_test_split(x,y,test_size=.2,random_state=42)\n",
    "\n",
    "# Output shapes of each set\n",
    "print(\"Train set:\", x_train.shape, y_train.shape)\n",
    "print(\"Test set:\", x_test.shape, y_test.shape)\n"
   ]
  },
  {
   "cell_type": "code",
   "execution_count": 42,
   "id": "5e5d6719",
   "metadata": {
    "execution": {
     "iopub.execute_input": "2024-10-03T19:45:26.548656Z",
     "iopub.status.busy": "2024-10-03T19:45:26.548233Z",
     "iopub.status.idle": "2024-10-03T19:45:26.555892Z",
     "shell.execute_reply": "2024-10-03T19:45:26.554589Z"
    },
    "papermill": {
     "duration": 0.020997,
     "end_time": "2024-10-03T19:45:26.558392",
     "exception": false,
     "start_time": "2024-10-03T19:45:26.537395",
     "status": "completed"
    },
    "tags": []
   },
   "outputs": [
    {
     "data": {
      "text/plain": [
       "(1760, 7)"
      ]
     },
     "execution_count": 42,
     "metadata": {},
     "output_type": "execute_result"
    }
   ],
   "source": [
    "x_train.shape"
   ]
  },
  {
   "cell_type": "code",
   "execution_count": 43,
   "id": "08f673c4",
   "metadata": {
    "execution": {
     "iopub.execute_input": "2024-10-03T19:45:26.580075Z",
     "iopub.status.busy": "2024-10-03T19:45:26.578923Z",
     "iopub.status.idle": "2024-10-03T19:45:26.658864Z",
     "shell.execute_reply": "2024-10-03T19:45:26.657653Z"
    },
    "papermill": {
     "duration": 0.09363,
     "end_time": "2024-10-03T19:45:26.661732",
     "exception": false,
     "start_time": "2024-10-03T19:45:26.568102",
     "status": "completed"
    },
    "tags": []
   },
   "outputs": [],
   "source": [
    "from sklearn.linear_model import LogisticRegression\n",
    "logistic_r=LogisticRegression()\n"
   ]
  },
  {
   "cell_type": "code",
   "execution_count": 47,
   "id": "e9da98d8",
   "metadata": {
    "execution": {
     "iopub.execute_input": "2024-10-03T19:45:26.683180Z",
     "iopub.status.busy": "2024-10-03T19:45:26.682137Z",
     "iopub.status.idle": "2024-10-03T19:45:47.827387Z",
     "shell.execute_reply": "2024-10-03T19:45:47.826056Z"
    },
    "papermill": {
     "duration": 21.159057,
     "end_time": "2024-10-03T19:45:47.830320",
     "exception": false,
     "start_time": "2024-10-03T19:45:26.671263",
     "status": "completed"
    },
    "tags": []
   },
   "outputs": [],
   "source": [
    "log_model = logistic_r.fit(x_train,y_train)\n",
    "y_test_pred = log_model.predict(x_test)"
   ]
  },
  {
   "cell_type": "code",
   "execution_count": 48,
   "id": "ebe049a2",
   "metadata": {
    "execution": {
     "iopub.execute_input": "2024-10-03T19:45:47.889804Z",
     "iopub.status.busy": "2024-10-03T19:45:47.889387Z",
     "iopub.status.idle": "2024-10-03T19:45:47.994177Z",
     "shell.execute_reply": "2024-10-03T19:45:47.992685Z"
    },
    "papermill": {
     "duration": 0.137387,
     "end_time": "2024-10-03T19:45:47.997410",
     "exception": false,
     "start_time": "2024-10-03T19:45:47.860023",
     "status": "completed"
    },
    "tags": []
   },
   "outputs": [],
   "source": [
    "from sklearn.metrics import accuracy_score, confusion_matrix, classification_report"
   ]
  },
  {
   "cell_type": "code",
   "execution_count": 50,
   "id": "90f10da6",
   "metadata": {},
   "outputs": [
    {
     "data": {
      "text/plain": [
       "0.9454545454545454"
      ]
     },
     "execution_count": 50,
     "metadata": {},
     "output_type": "execute_result"
    }
   ],
   "source": [
    "accuracy_score(y_test,y_test_pred)"
   ]
  },
  {
   "cell_type": "code",
   "execution_count": 52,
   "id": "b120aa9e",
   "metadata": {},
   "outputs": [],
   "source": [
    "from sklearn.ensemble import RandomForestClassifier\n",
    "rf_classifier = RandomForestClassifier()\n",
    "rf_model = rf_classifier.fit(x_train,y_train)\n",
    "y_test_pred = rf_model.predict(x_test)"
   ]
  },
  {
   "cell_type": "code",
   "execution_count": 53,
   "id": "38bf5dd8",
   "metadata": {},
   "outputs": [
    {
     "data": {
      "text/plain": [
       "0.9931818181818182"
      ]
     },
     "execution_count": 53,
     "metadata": {},
     "output_type": "execute_result"
    }
   ],
   "source": [
    "accuracy_score(y_test,y_test_pred)"
   ]
  },
  {
   "cell_type": "code",
   "execution_count": 54,
   "id": "a8fbb0e2",
   "metadata": {},
   "outputs": [],
   "source": [
    "from sklearn.svm import SVC\n",
    "svm=SVC()\n",
    "svm_model = svm.fit(x_train,y_train)\n",
    "y_test_pred = svm_model.predict(x_test)"
   ]
  },
  {
   "cell_type": "code",
   "execution_count": 55,
   "id": "4674f5a2",
   "metadata": {},
   "outputs": [
    {
     "data": {
      "text/plain": [
       "0.9613636363636363"
      ]
     },
     "execution_count": 55,
     "metadata": {},
     "output_type": "execute_result"
    }
   ],
   "source": [
    "accuracy_score(y_test,y_test_pred)"
   ]
  },
  {
   "cell_type": "code",
   "execution_count": null,
   "id": "fc7e5056",
   "metadata": {},
   "outputs": [],
   "source": []
  },
  {
   "cell_type": "code",
   "execution_count": 56,
   "id": "81c590d6",
   "metadata": {},
   "outputs": [],
   "source": [
    "import pickle"
   ]
  },
  {
   "cell_type": "code",
   "execution_count": 57,
   "id": "26fcb7c4",
   "metadata": {},
   "outputs": [],
   "source": [
    "pickle.dump(rf_model,open('crop-recomandation.pkl','wb'))"
   ]
  }
 ],
 "metadata": {
  "kaggle": {
   "accelerator": "none",
   "dataSources": [
    {
     "datasetId": 2088120,
     "sourceId": 3468346,
     "sourceType": "datasetVersion"
    }
   ],
   "dockerImageVersionId": 30213,
   "isGpuEnabled": false,
   "isInternetEnabled": true,
   "language": "python",
   "sourceType": "notebook"
  },
  "kernelspec": {
   "display_name": "Python 3",
   "language": "python",
   "name": "python3"
  },
  "language_info": {
   "codemirror_mode": {
    "name": "ipython",
    "version": 3
   },
   "file_extension": ".py",
   "mimetype": "text/x-python",
   "name": "python",
   "nbconvert_exporter": "python",
   "pygments_lexer": "ipython3",
   "version": "3.12.0"
  },
  "papermill": {
   "default_parameters": {},
   "duration": 45.79866,
   "end_time": "2024-10-03T19:45:52.870665",
   "environment_variables": {},
   "exception": null,
   "input_path": "__notebook__.ipynb",
   "output_path": "__notebook__.ipynb",
   "parameters": {},
   "start_time": "2024-10-03T19:45:07.072005",
   "version": "2.3.4"
  }
 },
 "nbformat": 4,
 "nbformat_minor": 5
}
